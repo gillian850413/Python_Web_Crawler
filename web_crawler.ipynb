{
 "cells": [
  {
   "cell_type": "code",
   "execution_count": 1,
   "metadata": {},
   "outputs": [],
   "source": [
    "import requests\n",
    "from bs4 import BeautifulSoup\n",
    "import re\n",
    "import pandas as pd"
   ]
  },
  {
   "cell_type": "markdown",
   "metadata": {},
   "source": [
    "## 1. Crawl single site"
   ]
  },
  {
   "cell_type": "code",
   "execution_count": 2,
   "metadata": {},
   "outputs": [],
   "source": [
    "def get_title(url): \n",
    "    res = requests.get(url) #get the website, return request.Response object\n",
    "    #print(res.status_code) #statu_code: return 200(found web), 404(not found)\n",
    "    soup = BeautifulSoup(res.text, 'html.parser')\n",
    "    us_news_div = soup.find_all('div', re.compile('article-content'))\n",
    "    \n",
    "    title_list = []\n",
    "    for i in range(len(us_news_div)):\n",
    "        us_news_h3 = us_news_div[i].find_all('h3', recursive=False)\n",
    "        us_news_a = us_news_h3[0].find_all('a', recursive=False)\n",
    "        for index, item in enumerate(us_news_a[:]):\n",
    "            title = item.text.strip()\n",
    "            title_list.append(title)\n",
    "    return title_list"
   ]
  },
  {
   "cell_type": "code",
   "execution_count": 3,
   "metadata": {},
   "outputs": [],
   "source": [
    "def get_url(title_list):\n",
    "    title_name = ''\n",
    "    url_list = []\n",
    "    pattern = re.compile('([^\\s\\w]|_)+')\n",
    "\n",
    "    for i in range(len(title_list)):\n",
    "        title = re.sub(\"[‘’]\", '', title_list[i])\n",
    "        #print(title)\n",
    "        strippedList = pattern.sub(' ', title)\n",
    "        a = strippedList.split(\" \")\n",
    "        empty_string = ''\n",
    "        if empty_string in a:\n",
    "            a = [x for x in a if x != '']\n",
    "            title_name = '-'.join(a)\n",
    "        else:\n",
    "            title_name = '-'.join(a)\n",
    "        url = 'https://www.infowars.com/'+title_name\n",
    "        url_list.append(url)        \n",
    "    return url_list"
   ]
  },
  {
   "cell_type": "code",
   "execution_count": 4,
   "metadata": {},
   "outputs": [],
   "source": [
    "def get_content(url):\n",
    "    res_content = requests.get(url) #get the website, return request.Response object\n",
    "    if(res_content.status_code == 200):\n",
    "        soup2 = BeautifulSoup(res_content.text, 'html.parser')\n",
    "        article = soup2.find_all('article')\n",
    "        content = article[0].find_all('p')\n",
    "        full_content = \"\"\n",
    "        for index, item in enumerate(content[:]):\n",
    "            content2 = item.text.strip()   \n",
    "            full_content = full_content+content2\n",
    "        return full_content\n",
    "    else:\n",
    "        return"
   ]
  },
  {
   "cell_type": "code",
   "execution_count": 5,
   "metadata": {},
   "outputs": [],
   "source": [
    "url1 = 'https://www.infowars.com/news/'"
   ]
  },
  {
   "cell_type": "code",
   "execution_count": 6,
   "metadata": {},
   "outputs": [],
   "source": [
    "content_list = []\n",
    "title_list = get_title(url1)\n",
    "url_list = get_url(title_list)\n",
    "for i in range(len(title_list)):\n",
    "    content_list.append(get_content(url_list[i]))"
   ]
  },
  {
   "cell_type": "code",
   "execution_count": 7,
   "metadata": {},
   "outputs": [
    {
     "data": {
      "text/html": [
       "<div>\n",
       "<style>\n",
       "    .dataframe thead tr:only-child th {\n",
       "        text-align: right;\n",
       "    }\n",
       "\n",
       "    .dataframe thead th {\n",
       "        text-align: left;\n",
       "    }\n",
       "\n",
       "    .dataframe tbody tr th {\n",
       "        vertical-align: top;\n",
       "    }\n",
       "</style>\n",
       "<table border=\"1\" class=\"dataframe\">\n",
       "  <thead>\n",
       "    <tr style=\"text-align: right;\">\n",
       "      <th></th>\n",
       "      <th>Title</th>\n",
       "      <th>URL</th>\n",
       "      <th>Content</th>\n",
       "    </tr>\n",
       "  </thead>\n",
       "  <tbody>\n",
       "    <tr>\n",
       "      <th>0</th>\n",
       "      <td>Supreme Court Rejects Request to Hear Environm...</td>\n",
       "      <td>https://www.infowars.com/Supreme-Court-Rejects...</td>\n",
       "      <td>The U.S. Supreme Court on Monday rejected a re...</td>\n",
       "    </tr>\n",
       "    <tr>\n",
       "      <th>1</th>\n",
       "      <td>Video: Shut Up Jay Z</td>\n",
       "      <td>https://www.infowars.com/Video-Shut-Up-Jay-Z</td>\n",
       "      <td>Shut up Jay Z. You’re a massive hypocrite and ...</td>\n",
       "    </tr>\n",
       "    <tr>\n",
       "      <th>2</th>\n",
       "      <td>Six MS-13 Gang Members Accused of Butchering M...</td>\n",
       "      <td>https://www.infowars.com/Six-MS-13-Gang-Member...</td>\n",
       "      <td>Six members of the MS-13 gang are accused of b...</td>\n",
       "    </tr>\n",
       "    <tr>\n",
       "      <th>3</th>\n",
       "      <td>UN Linked ‘Extremism Expert’ Says Trump Could ...</td>\n",
       "      <td>https://www.infowars.com/UN-Linked-Extremism-E...</td>\n",
       "      <td>A leftist extremism ‘analyst’ with ties to the...</td>\n",
       "    </tr>\n",
       "    <tr>\n",
       "      <th>4</th>\n",
       "      <td>Bruce Springsteen Thinks Trump Will Win in 202...</td>\n",
       "      <td>https://www.infowars.com/Bruce-Springsteen-Thi...</td>\n",
       "      <td>Bruce Springsteen believes that President Dona...</td>\n",
       "    </tr>\n",
       "  </tbody>\n",
       "</table>\n",
       "</div>"
      ],
      "text/plain": [
       "                                               Title  \\\n",
       "0  Supreme Court Rejects Request to Hear Environm...   \n",
       "1                               Video: Shut Up Jay Z   \n",
       "2  Six MS-13 Gang Members Accused of Butchering M...   \n",
       "3  UN Linked ‘Extremism Expert’ Says Trump Could ...   \n",
       "4  Bruce Springsteen Thinks Trump Will Win in 202...   \n",
       "\n",
       "                                                 URL  \\\n",
       "0  https://www.infowars.com/Supreme-Court-Rejects...   \n",
       "1       https://www.infowars.com/Video-Shut-Up-Jay-Z   \n",
       "2  https://www.infowars.com/Six-MS-13-Gang-Member...   \n",
       "3  https://www.infowars.com/UN-Linked-Extremism-E...   \n",
       "4  https://www.infowars.com/Bruce-Springsteen-Thi...   \n",
       "\n",
       "                                             Content  \n",
       "0  The U.S. Supreme Court on Monday rejected a re...  \n",
       "1  Shut up Jay Z. You’re a massive hypocrite and ...  \n",
       "2  Six members of the MS-13 gang are accused of b...  \n",
       "3  A leftist extremism ‘analyst’ with ties to the...  \n",
       "4  Bruce Springsteen believes that President Dona...  "
      ]
     },
     "execution_count": 7,
     "metadata": {},
     "output_type": "execute_result"
    }
   ],
   "source": [
    "#Dataframe: News | URL | Content\n",
    "data = {'Title':title_list,'URL':url_list,'Content':content_list}\n",
    "df = pd.DataFrame(data)\n",
    "df = df[['Title', 'URL', 'Content']]\n",
    "df.head()"
   ]
  },
  {
   "cell_type": "code",
   "execution_count": 8,
   "metadata": {},
   "outputs": [],
   "source": [
    "df.to_csv('result.csv')"
   ]
  },
  {
   "cell_type": "markdown",
   "metadata": {},
   "source": [
    "# 2. Crawl Multiple Web Pages\n",
    "## Dataframe: News | URL | Content"
   ]
  },
  {
   "cell_type": "code",
   "execution_count": 9,
   "metadata": {},
   "outputs": [
    {
     "name": "stdout",
     "output_type": "stream",
     "text": [
      "200\n"
     ]
    }
   ],
   "source": [
    "url = 'https://www.infowars.com'\n",
    "res = requests.get(url) #get the website, return request.Response object\n",
    "print(res.status_code) #statu_code: return 200(found web), 404(not found)"
   ]
  },
  {
   "cell_type": "code",
   "execution_count": 10,
   "metadata": {},
   "outputs": [],
   "source": [
    "#print(res.text)"
   ]
  },
  {
   "cell_type": "code",
   "execution_count": 9,
   "metadata": {},
   "outputs": [],
   "source": [
    "def get_tag(res, tag):   \n",
    "    soup = BeautifulSoup(res.text, 'html.parser')\n",
    "    tag_li = soup.find_all('li', re.compile(tag))\n",
    "    pattern = re.compile('([^\\s\\w]|_)+')\n",
    "    tag_list = []\n",
    "    \n",
    "    for i in range(len(tag_li)):\n",
    "        tag_a = tag_li[i].find_all('a', recursive=False)\n",
    "        for index, item in enumerate(tag_a[:]):\n",
    "            tag = item.text.strip()\n",
    "            tag = pattern.sub(' ', re.sub(\"[‘’.]\", '', tag))\n",
    "            tag_list.append(tag)\n",
    "\n",
    "    return list(set(tag_list))"
   ]
  },
  {
   "cell_type": "code",
   "execution_count": 10,
   "metadata": {},
   "outputs": [],
   "source": [
    "def get_category_url(title_list):\n",
    "    title_name = ''\n",
    "    url_list = []\n",
    "    pattern = re.compile('([^\\s\\w]|_)+')\n",
    "\n",
    "    for i in range(len(title_list)):\n",
    "        title = re.sub(\"[‘’]\", '', title_list[i])\n",
    "        #print(title)\n",
    "        strippedList = pattern.sub(' ', title)\n",
    "        a = strippedList.split(\" \")\n",
    "        empty_string = ''\n",
    "        if empty_string in a:\n",
    "            a = [x for x in a if x != '']\n",
    "            title_name = '-'.join(a)\n",
    "        else:\n",
    "            title_name = '-'.join(a)\n",
    "        url = 'https://www.infowars.com/category/'+title_name\n",
    "        url_list.append(url)        \n",
    "    return url_list"
   ]
  },
  {
   "cell_type": "code",
   "execution_count": 13,
   "metadata": {},
   "outputs": [
    {
     "data": {
      "text/plain": [
       "['https://www.infowars.com/category/Science-Technology',\n",
       " 'https://www.infowars.com/category/World-News',\n",
       " 'https://www.infowars.com/category/Economy',\n",
       " 'https://www.infowars.com/category/Health',\n",
       " 'https://www.infowars.com/category/Hot-News',\n",
       " 'https://www.infowars.com/category/World-at-War',\n",
       " 'https://www.infowars.com/category/Globalism',\n",
       " 'https://www.infowars.com/category/Special-Reports',\n",
       " 'https://www.infowars.com/category/Government',\n",
       " 'https://www.infowars.com/category/US-News']"
      ]
     },
     "execution_count": 13,
     "metadata": {},
     "output_type": "execute_result"
    }
   ],
   "source": [
    "news_tag = 'menu-item menu-item-type-taxonomy menu-item-object-category'\n",
    "category_url_list = get_category_url(get_tag(res, news_tag))\n",
    "category_url_list"
   ]
  },
  {
   "cell_type": "code",
   "execution_count": 14,
   "metadata": {},
   "outputs": [
    {
     "name": "stdout",
     "output_type": "stream",
     "text": [
      "200\n",
      "200\n",
      "200\n",
      "200\n",
      "200\n",
      "200\n",
      "200\n",
      "200\n",
      "200\n",
      "200\n"
     ]
    }
   ],
   "source": [
    "#make sure the news webpages exist\n",
    "for i in range(len(category_url_list)):\n",
    "    res = requests.get(category_url_list[i]) #get the website, return request.Response object\n",
    "    print(res.status_code) #statu_code: return 200(found web), 404(not found)"
   ]
  },
  {
   "cell_type": "code",
   "execution_count": 15,
   "metadata": {},
   "outputs": [
    {
     "data": {
      "text/plain": [
       "['https://www.infowars.com/category/Science-Technology',\n",
       " 'https://www.infowars.com/category/World-News',\n",
       " 'https://www.infowars.com/category/Economy',\n",
       " 'https://www.infowars.com/category/Health',\n",
       " 'https://www.infowars.com/category/Hot-News',\n",
       " 'https://www.infowars.com/category/World-at-War',\n",
       " 'https://www.infowars.com/category/Globalism',\n",
       " 'https://www.infowars.com/category/Special-Reports',\n",
       " 'https://www.infowars.com/category/Government',\n",
       " 'https://www.infowars.com/category/US-News']"
      ]
     },
     "execution_count": 15,
     "metadata": {},
     "output_type": "execute_result"
    }
   ],
   "source": [
    "category_url_list"
   ]
  },
  {
   "cell_type": "code",
   "execution_count": 16,
   "metadata": {},
   "outputs": [
    {
     "data": {
      "text/plain": [
       "['“It Was Anarchy” As Mag 7 Quake Rocks Anchorage; Trump Promises Federal Aid',\n",
       " 'NASA announces the nine companies competing to put us back on the Moon',\n",
       " 'How many photons has the universe produced in its life?',\n",
       " 'Discovery Jeopardizes East Africa’s “cradle of mankind” Title',\n",
       " 'NASA chief shoots for constant moon presence in 10 years',\n",
       " 'U.S. Life Expectancy Is Falling – And The 2 Biggest Reasons Why Will Absolutely Stun You…',\n",
       " 'Ancient Cave Paintings Show Early Humans Understood Complex Astronomy',\n",
       " 'USA’s ‘First Biometric Terminal’ Ready to Go at Atlanta Airport',\n",
       " 'The Coldest And Snowiest November Ever? Here Is Why America’s Freakish Weather Is Only Going To Get Worse…',\n",
       " 'India Invites Other Countries for Venus Mission',\n",
       " 'Chinese Scientist Behind ‘Gene-Edited Babies’ Claims to Pause Trial After Outcry',\n",
       " 'Design, Not Accident',\n",
       " 'Like Humans, Dogs Know When They Don’t Know Enough To Make A Decision',\n",
       " 'The Truth About China’s Gene Edited Babies',\n",
       " 'Science Shocker: Adam And Eve For Real',\n",
       " 'Chinese scientist claims to have created ‘world’s first genetically edited babies’',\n",
       " 'International Space Station Infested With Mysterious & Potentially Dangerous Space Bugs',\n",
       " '200-Million-Year-Old Huge Mammal Disrupts Evolution Theory',\n",
       " 'Authorities Are Using A “Mysterious New Tool” That Can Unlock Virtually Any Cellphone',\n",
       " 'Big Gains in Quantum Tech',\n",
       " 'Science Journal: Opposing Transgender Rights Is ‘Worse’ than Curbing Science',\n",
       " 'Watch: First-Ever Plane Flies With No Moving Parts',\n",
       " 'Researchers Want to 3D-Print With Moon Dust',\n",
       " 'Gov’t Facial Biometrics Program Catches More Illegals at Airports',\n",
       " 'California Wildfires May Not Be Wildfires At All',\n",
       " 'Ultra-Bright Galaxy Feeds Black Hole by Stealing From Neighbors',\n",
       " 'Ultra-Thin Skin Uses Magnets, Acts as Bionic “Compass”',\n",
       " 'How Bezos, Cuomo and Amazon Screwed Over New York',\n",
       " 'Video: Rand Paul Warns Of Censorship Of Conservatives By Big Tech',\n",
       " 'Trump Must Stop Web Censorship To Save America And The World',\n",
       " 'National Facial Recognition Database To Use Loyalty Rewards To Identify American Shoppers',\n",
       " 'Astronomers find possible elusive star behind supernova']"
      ]
     },
     "execution_count": 16,
     "metadata": {},
     "output_type": "execute_result"
    }
   ],
   "source": [
    "get_title(category_url_list[0])"
   ]
  },
  {
   "cell_type": "code",
   "execution_count": 17,
   "metadata": {},
   "outputs": [],
   "source": [
    "news_title_list = []\n",
    "for i in range(len(category_url_list)):\n",
    "    title_list = get_title(category_url_list[i])\n",
    "    news_title_list = news_title_list + title_list\n",
    "    news_title_list = list(set(news_title_list))"
   ]
  },
  {
   "cell_type": "code",
   "execution_count": 18,
   "metadata": {},
   "outputs": [
    {
     "data": {
      "text/plain": [
       "319"
      ]
     },
     "execution_count": 18,
     "metadata": {},
     "output_type": "execute_result"
    }
   ],
   "source": [
    "len(news_title_list)"
   ]
  },
  {
   "cell_type": "code",
   "execution_count": 19,
   "metadata": {},
   "outputs": [],
   "source": [
    "new_content_list = []\n",
    "multi_page_url_list = get_url(news_title_list)\n",
    "for i in range(len(news_title_list)):\n",
    "    new_content_list.append(get_content(multi_page_url_list[i]))"
   ]
  },
  {
   "cell_type": "code",
   "execution_count": 20,
   "metadata": {},
   "outputs": [
    {
     "data": {
      "text/html": [
       "<div>\n",
       "<style>\n",
       "    .dataframe thead tr:only-child th {\n",
       "        text-align: right;\n",
       "    }\n",
       "\n",
       "    .dataframe thead th {\n",
       "        text-align: left;\n",
       "    }\n",
       "\n",
       "    .dataframe tbody tr th {\n",
       "        vertical-align: top;\n",
       "    }\n",
       "</style>\n",
       "<table border=\"1\" class=\"dataframe\">\n",
       "  <thead>\n",
       "    <tr style=\"text-align: right;\">\n",
       "      <th></th>\n",
       "      <th>Title</th>\n",
       "      <th>URL</th>\n",
       "      <th>Content</th>\n",
       "    </tr>\n",
       "  </thead>\n",
       "  <tbody>\n",
       "    <tr>\n",
       "      <th>0</th>\n",
       "      <td>Massive Dow Drop Incoming – CFO Poll</td>\n",
       "      <td>https://www.infowars.com/Massive-Dow-Drop-Inco...</td>\n",
       "      <td>The Dow plunge isn’t anywhere near done.At lea...</td>\n",
       "    </tr>\n",
       "    <tr>\n",
       "      <th>1</th>\n",
       "      <td>Washington Approves Sale of 10 Apache Attack H...</td>\n",
       "      <td>https://www.infowars.com/Washington-Approves-S...</td>\n",
       "      <td>The US government has given the go-ahead to se...</td>\n",
       "    </tr>\n",
       "    <tr>\n",
       "      <th>2</th>\n",
       "      <td>Netanyahu to Take Over Defense Job</td>\n",
       "      <td>https://www.infowars.com/Netanyahu-to-Take-Ove...</td>\n",
       "      <td>Israeli Prime Minister Benjamin Netanyahu will...</td>\n",
       "    </tr>\n",
       "    <tr>\n",
       "      <th>3</th>\n",
       "      <td>A White House Press Pass Has Nothing to do wit...</td>\n",
       "      <td>https://www.infowars.com/A-White-House-Press-P...</td>\n",
       "      <td>A federal judge today ruled the White House mu...</td>\n",
       "    </tr>\n",
       "    <tr>\n",
       "      <th>4</th>\n",
       "      <td>A Chemical Weapon Attack Just Happened In Alep...</td>\n",
       "      <td>https://www.infowars.com/A-Chemical-Weapon-Att...</td>\n",
       "      <td>Owen Shroyer talks with guest Syrian Girl abou...</td>\n",
       "    </tr>\n",
       "  </tbody>\n",
       "</table>\n",
       "</div>"
      ],
      "text/plain": [
       "                                               Title  \\\n",
       "0               Massive Dow Drop Incoming – CFO Poll   \n",
       "1  Washington Approves Sale of 10 Apache Attack H...   \n",
       "2                 Netanyahu to Take Over Defense Job   \n",
       "3  A White House Press Pass Has Nothing to do wit...   \n",
       "4  A Chemical Weapon Attack Just Happened In Alep...   \n",
       "\n",
       "                                                 URL  \\\n",
       "0  https://www.infowars.com/Massive-Dow-Drop-Inco...   \n",
       "1  https://www.infowars.com/Washington-Approves-S...   \n",
       "2  https://www.infowars.com/Netanyahu-to-Take-Ove...   \n",
       "3  https://www.infowars.com/A-White-House-Press-P...   \n",
       "4  https://www.infowars.com/A-Chemical-Weapon-Att...   \n",
       "\n",
       "                                             Content  \n",
       "0  The Dow plunge isn’t anywhere near done.At lea...  \n",
       "1  The US government has given the go-ahead to se...  \n",
       "2  Israeli Prime Minister Benjamin Netanyahu will...  \n",
       "3  A federal judge today ruled the White House mu...  \n",
       "4  Owen Shroyer talks with guest Syrian Girl abou...  "
      ]
     },
     "execution_count": 20,
     "metadata": {},
     "output_type": "execute_result"
    }
   ],
   "source": [
    "#Dataframe: News | URL | Content\n",
    "data = {'Title':news_title_list,'URL':multi_page_url_list,'Content':new_content_list}\n",
    "df = pd.DataFrame(data)\n",
    "df = df[['Title', 'URL', 'Content']]\n",
    "df.head()"
   ]
  },
  {
   "cell_type": "code",
   "execution_count": 21,
   "metadata": {},
   "outputs": [],
   "source": [
    "df.to_csv('result.csv')"
   ]
  },
  {
   "cell_type": "markdown",
   "metadata": {},
   "source": [
    "## 3. Crawl Breaking News "
   ]
  },
  {
   "cell_type": "code",
   "execution_count": 59,
   "metadata": {},
   "outputs": [],
   "source": [
    "url_breaking = \"https://www.infowars.com/breaking-news/\"\n",
    "#https://www.infowars.com/breaking-news/page/2/"
   ]
  },
  {
   "cell_type": "code",
   "execution_count": 64,
   "metadata": {},
   "outputs": [],
   "source": [
    "def get_article_title(url, num_of_pages): \n",
    "    page = 1\n",
    "    full_title_list = []\n",
    "    while page <= num_of_pages:\n",
    "        url_2 = url + \"page/%s/\" % page\n",
    "        res = requests.get(url_2)\n",
    "        soup = BeautifulSoup(res.text, 'html.parser')\n",
    "        us_news_div = soup.find_all('article', re.compile('post-'))\n",
    "        #us_news_div = soup.find_all('div', re.compile('articles-list'))\n",
    "        \n",
    "        \n",
    "        title_list = []\n",
    "        for i in range(len(us_news_div)):\n",
    "            us_news_a = us_news_div[i].find_all('a')\n",
    "            us_news_h3 = us_news_a[0].find_all('h3')\n",
    "\n",
    "            for index, item in enumerate(us_news_h3[:]):\n",
    "                title = item.text.strip()\n",
    "                #print(title)\n",
    "                title_list.append(title)\n",
    "        \n",
    "        full_title_list.extend(title_list)\n",
    "        page += 1\n",
    "\n",
    "    return full_title_list\n"
   ]
  },
  {
   "cell_type": "code",
   "execution_count": 66,
   "metadata": {},
   "outputs": [
    {
     "data": {
      "text/plain": [
       "['Roger Stone Responds to Trump Stating He Has Guts',\n",
       " 'Watch Live: President Trump Praises Roger Stone For Having Guts Not To Sell Out To Mueller',\n",
       " 'Viva La Revolución!: Total Chaos In France As People Reject Macron’s Globalism',\n",
       " 'Supreme Court Rejects Request to Hear Environmental Challenge to Trump’s Border Wall Construction',\n",
       " 'Video: Shut Up Jay Z',\n",
       " 'Trump Rejects Globalism: Photo Represents America’s Departure From NWO',\n",
       " 'NFL Ad Revenue Drops',\n",
       " 'Video: Man Confronts Teacher For Putting Grandson in a Dress',\n",
       " 'Watch: The Day Privacy Officially Died',\n",
       " '2017: Elite Praises Macron As France’s Savior — 2018: Violent French Revolt',\n",
       " 'War Criminal HW Bush In His Own Words',\n",
       " 'Oil Prices Surge on Trade War Truce',\n",
       " 'Trump Wants to End “Uncontrollable Arms Race” With Russia, China',\n",
       " 'Caught Red Handed! Google Censorship Exposed',\n",
       " 'Black Hole Breakthrough May “Rewrite Astronomy Textbooks”',\n",
       " 'Watch! France Rages Over Taxes And Terror',\n",
       " 'Six MS-13 Gang Members Accused of Butchering Massachusetts Teen',\n",
       " 'After Two Years, NASA Ship Reaches Asteroid',\n",
       " 'Moral Relativism Is A Satanic Attack On American Society',\n",
       " 'Brazilian Lawmakers Push Law Recognizing Right to Own Guns for Self-Defense',\n",
       " 'Wounded Yemenis Evacuated Before Peace Talks',\n",
       " 'Glowing Serpent Found in the Sky',\n",
       " 'Toxic Chemicals Found in Children’s Car Seats',\n",
       " 'Why Conservatives Should Do Crazy Stunts Like Laura Loomer',\n",
       " 'Christians Face ‘imminent extinction’ in the Middle East, Archbishop of Canterbury Warns',\n",
       " 'Mueller Withheld ‘Details That Would Exonerate The President’ Of Having Kremlin Backchannel',\n",
       " 'Dentist Prescriptions Fuel Opioid Addiction in Teens – Study',\n",
       " 'UN Climate Summit To Emit More CO2 Than 8,200 American Homes Do In A Year',\n",
       " 'Soros-founded School Says Forced Out of Hungary on ‘dark day for Europe’',\n",
       " 'Essential Oils From Garlic Better Than Antibiotics For Treating Lyme Bacteria – Study',\n",
       " 'Essential Oils From Garlic Better Than Antibiotics For Treating Lyme Bacteria – Study',\n",
       " 'Watch The Censored Broadcast Live! Macron Threatens to Declare Martial Law In France As Nationalists Riot',\n",
       " 'Why Did a Congressman Threaten to Nuke Those Who Don’t Submit to Gun Control?',\n",
       " 'Trump Foreign Policy: Doing the Same Thing and Expecting a Different Result',\n",
       " 'The Many Ways Governments Create Monopolies',\n",
       " 'San Francisco’s Wealthy Leftists Are Making Homelessness Worse',\n",
       " 'Italy’s “Salvini Decree” Tightens Immigration, Security',\n",
       " 'Film Institute Bans Movie Villains With Disfigured Faces',\n",
       " 'The David Knight Show: It’s A Globalist Life; George HW Bush Remembered And Clinton Foundation Investigated',\n",
       " 'Video: French Police Remove Helmets in Solidarity With ‘Yellow Vest’ Protesters',\n",
       " 'China to Cut Tax On American-Made Cars',\n",
       " 'Qatar to Quit OPEC',\n",
       " 'UN Linked ‘Extremism Expert’ Says Trump Could Command Supporters To Turn Violent',\n",
       " 'New Nationalist Party Rocks Spain',\n",
       " 'The EU Reich Versus Britain',\n",
       " 'Bruce Springsteen Thinks Trump Will Win in 2020: I Don’t See Anyone Who Can Beat Him',\n",
       " 'Michael Avenatti: My chances in 2020 ‘have only gone up’ since domestic violence allegations',\n",
       " 'Even The NYTimes Thinks Its ‘Curtains For The Clintons’',\n",
       " 'Tijuana mayor calls for arrest of caravan organizers',\n",
       " 'HATE HOAX: Black College Lacrosse Player Scrawled N-Word, KKK, Swastika Targeting Himself',\n",
       " 'The Elite Are Creating An Authoritarian ‘Beast System’, And Those That Dissent Could Lose EVERYTHING',\n",
       " 'How To Get The Banned Infowars Podcasts On Your Mobile Device',\n",
       " 'Watch Live: The Death of George H.W. Bush Is Symbolic of Collapse of NWO World Govt Project',\n",
       " 'Dem Congresswoman Admits Helping Caravan Members Enter US After They Were Denied Entry',\n",
       " 'All ‘SNL’ Wants for Christmas Is for Mueller to Arrest Trump, ‘Only Other Option Is a Coup’',\n",
       " 'Roger Stone Vows Never To Testify Against Trump: ‘Where Is The Crime? I Engaged In Politics’',\n",
       " 'Comey Strikes Deal Regarding Congressional Testimony',\n",
       " 'Shock Video: Migrants Land Boat On California Beach 100 Miles From Border',\n",
       " 'Florida Election Official Brenda Snipes Rescinds Resignation After Governor Moves To Suspend Her',\n",
       " 'Tijuana Shuts Down Migrant Caravan Shelter',\n",
       " 'France In Chaos: Macron Considers State Of Emergency Amid ‘Yellow Vest’ Protests, ‘All Options’ Considered',\n",
       " 'Elizabeth Warren 2020 Preview: Donald Trump ‘Cozies Up to White Nationalists,’ Inspires ‘Domestic Right-Wing Terrorism’',\n",
       " 'Pew: U.S. Illegal Immigrant Population Hits Lowest Level in a Decade',\n",
       " 'MS-13 Gang Member Busted in AZ Says He Used Migrant Caravan for Cover',\n",
       " 'Trump Declares Wednesday ‘National Day Of Mourning’ For President Bush; Stock Market To Close',\n",
       " 'Scientists Urge World To Share DNA In Centralized Database “For Your Protection”',\n",
       " 'CIA Intercept Reveals Saudi Crown Prince Sent 11 Messages To Head Of Khashoggi Hit Team Hours Before Murder',\n",
       " 'Baby It’s Cold Outside pulled by radio station, citing #MeToo',\n",
       " 'Socialist Losers Given The Wheel Of The Democratic Party',\n",
       " 'Live From New York: Laura Loomer Follow-Up',\n",
       " 'Handcuffed Laura Loomer Demands, “Stop the Bias of Conservatives, Jack Dorsey!”',\n",
       " 'Update: Tijuana Successfully Stalled Migrant Caravan From Storming Border',\n",
       " 'Americans Respond To Alex Jones’ Censorship And Twitter Bias Towards Conservatives',\n",
       " 'Communist China Has Been Set Up By Globalists To Win',\n",
       " 'Earthquake In Alaska: Did Man-Made Tremors Move An Island?',\n",
       " '“Now or Never”: Why the Migrant Caravan Plans Second Border Strike Saturday',\n",
       " 'Landlord Pressures Student to Move Out Over Legally-Owned Guns',\n",
       " 'Far-Left Group Trying To Agitate Caravan At U.S. Border',\n",
       " 'NPR Falsely Accuses Don Jr. Of Lying In Senate Testimony',\n",
       " 'Parkland Father Lauds George H.W. Bush’s Resignation From NRA In 1995',\n",
       " 'Mass Arrests In Paris As ‘Yellow Vest’ Protests Enter Violent Third Week, Spread To Belgium',\n",
       " 'Breaking: Migrant Caravan Set To Storm US Border Saturday Due To Mexico Eviction',\n",
       " 'Ocasio-Cortez Likens Her Election Win to Historic Moon Landing',\n",
       " 'Putin High-Fives Saudi Prince While Macron Threatens',\n",
       " 'FBI Raids Home Of Whistleblower On Clinton Foundation, Lawyer Says',\n",
       " 'Ted Cruz Predicts ‘Anger And Rage’ May Lead To Impeachment',\n",
       " 'French President Macron Confronts Saudi Prince MbS',\n",
       " 'Former President George H.W. Bush dies at age 94',\n",
       " '“It Was Anarchy” As Mag 7 Quake Rocks Anchorage; Trump Promises Federal Aid',\n",
       " 'Bette Midler Fantasizes About Trump and His Family Hanged ‘Good and High’',\n",
       " 'Fairy Tales Predicted Drag Queen Story Hour’s Demonic Grooming Plan For Children',\n",
       " 'The Latest Russia Collusion ‘Bombshells’ Are Big, Fat Duds',\n",
       " 'Manufactured Crisis: Pharma Exec Pleads Guilty To Opioid Kickback Conspiracy',\n",
       " 'Laura Loomer’s Twitter Headquarters Protest – HD Highlights',\n",
       " 'Laura Loomer Chains Herself to Twitter HQ to Protest Social Media Censorship',\n",
       " 'Ukrainian Whistleblower: Dem/Ukraine Collusion In 2016 & The Buildup To War Now',\n",
       " 'What’s Really Going On In Tijuana With The Migrant Caravan',\n",
       " 'Sex Worker Wants To Use Sex To Turn Men Into Socialists',\n",
       " 'Leftists Call Rudolph The Red-Nosed Reindeer Racist',\n",
       " 'Here’s What To Make Of The Jerome Corsi-Roger Stone Saga']"
      ]
     },
     "execution_count": 66,
     "metadata": {},
     "output_type": "execute_result"
    }
   ],
   "source": [
    "get_article_title(url_breaking, 10)"
   ]
  },
  {
   "cell_type": "code",
   "execution_count": 25,
   "metadata": {},
   "outputs": [],
   "source": [
    "content_list = []\n",
    "title_list = get_article_title(url_breaking)\n",
    "url_list = get_url(title_list)\n",
    "for i in range(len(title_list)):\n",
    "    content_list.append(get_content(url_list[i]))"
   ]
  },
  {
   "cell_type": "code",
   "execution_count": 26,
   "metadata": {},
   "outputs": [
    {
     "data": {
      "text/html": [
       "<div>\n",
       "<style>\n",
       "    .dataframe thead tr:only-child th {\n",
       "        text-align: right;\n",
       "    }\n",
       "\n",
       "    .dataframe thead th {\n",
       "        text-align: left;\n",
       "    }\n",
       "\n",
       "    .dataframe tbody tr th {\n",
       "        vertical-align: top;\n",
       "    }\n",
       "</style>\n",
       "<table border=\"1\" class=\"dataframe\">\n",
       "  <thead>\n",
       "    <tr style=\"text-align: right;\">\n",
       "      <th></th>\n",
       "      <th>Title</th>\n",
       "      <th>URL</th>\n",
       "      <th>Content</th>\n",
       "    </tr>\n",
       "  </thead>\n",
       "  <tbody>\n",
       "    <tr>\n",
       "      <th>0</th>\n",
       "      <td>Socialist Losers Given The Wheel Of The Democr...</td>\n",
       "      <td>https://www.infowars.com/Socialist-Losers-Give...</td>\n",
       "      <td>It only took 24 hours for the smug Democrats a...</td>\n",
       "    </tr>\n",
       "  </tbody>\n",
       "</table>\n",
       "</div>"
      ],
      "text/plain": [
       "                                               Title  \\\n",
       "0  Socialist Losers Given The Wheel Of The Democr...   \n",
       "\n",
       "                                                 URL  \\\n",
       "0  https://www.infowars.com/Socialist-Losers-Give...   \n",
       "\n",
       "                                             Content  \n",
       "0  It only took 24 hours for the smug Democrats a...  "
      ]
     },
     "execution_count": 26,
     "metadata": {},
     "output_type": "execute_result"
    }
   ],
   "source": [
    "data = {'Title':title_list,'URL':url_list,'Content':content_list}\n",
    "df = pd.DataFrame(data)\n",
    "df = df[['Title', 'URL', 'Content']]\n",
    "df.head()"
   ]
  }
 ],
 "metadata": {
  "kernelspec": {
   "display_name": "Python 3",
   "language": "python",
   "name": "python3"
  },
  "language_info": {
   "codemirror_mode": {
    "name": "ipython",
    "version": 3
   },
   "file_extension": ".py",
   "mimetype": "text/x-python",
   "name": "python",
   "nbconvert_exporter": "python",
   "pygments_lexer": "ipython3",
   "version": "3.6.3"
  }
 },
 "nbformat": 4,
 "nbformat_minor": 2
}
